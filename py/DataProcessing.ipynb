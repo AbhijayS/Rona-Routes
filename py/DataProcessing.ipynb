{
 "cells": [
  {
   "cell_type": "code",
   "execution_count": 2,
   "metadata": {},
   "outputs": [],
   "source": [
    "import pandas as pd\n",
    "import requests as rq\n",
    "\n",
    "state = 'Statewide Unallocated'\n",
    "countyToPop = {}\n",
    "countyToCov = {}"
   ]
  },
  {
   "cell_type": "code",
   "execution_count": 3,
   "metadata": {},
   "outputs": [],
   "source": [
    "def getPopDict():\n",
    "    popData = pd.read_csv('popData.csv', engine = 'python')\n",
    "    popData = popData.drop([col for col in list(popData) if col != 'County Name' and col != 'population'], axis = 1)\n",
    "    #make countyToPop\n",
    "    for index, row in popData.iterrows():\n",
    "        countyToPop[row['County Name']] = row['population']\n",
    "    return countyToPop\n",
    "\n",
    "\n",
    "def getCovDict():\n",
    "    covidData = pd.read_csv('covidData.csv', engine = 'python')\n",
    "    covidData = covidData.drop([col for col in list(covidData) if col != 'County Name' and col != '11/6/2020'], axis = 1)\n",
    "    #make countyToCov\n",
    "    for index, row in covidData.iterrows():\n",
    "        countyToCov[row['County Name']] = row['11/6/2020']\n",
    "    return countyToCov"
   ]
  },
  {
   "cell_type": "code",
   "execution_count": 4,
   "metadata": {},
   "outputs": [],
   "source": [
    "def getHighestCasePercentage():\n",
    "    max = 0\n",
    "    maxCounty = \"\"\n",
    "    for county in countyToCov:\n",
    "        if countyToCov.get(county) > max:\n",
    "            max = countyToCov.get(county)\n",
    "            maxCounty = county\n",
    "    return countyToCov.get(maxCounty) / countyToPop.get(county)"
   ]
  },
  {
   "cell_type": "code",
   "execution_count": 5,
   "metadata": {},
   "outputs": [],
   "source": [
    "new = pd.DataFrame(columns = ['County','Score'])"
   ]
  },
  {
   "cell_type": "code",
   "execution_count": null,
   "metadata": {},
   "outputs": [],
   "source": []
  }
 ],
 "metadata": {
  "kernelspec": {
   "display_name": "Python 3",
   "language": "python",
   "name": "python3"
  },
  "language_info": {
   "codemirror_mode": {
    "name": "ipython",
    "version": 3
   },
   "file_extension": ".py",
   "mimetype": "text/x-python",
   "name": "python",
   "nbconvert_exporter": "python",
   "pygments_lexer": "ipython3",
   "version": "3.8.3"
  }
 },
 "nbformat": 4,
 "nbformat_minor": 4
}
