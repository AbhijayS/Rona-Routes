{
 "cells": [
  {
   "cell_type": "code",
   "execution_count": 8,
   "metadata": {},
   "outputs": [],
   "source": [
    "#imports\n",
    "import numpy as np\n",
    "from ipynb.fs.full.DataProcessing import *\n",
    "from ipynb.fs.full.LocWeights import *\n",
    "\n",
    "#instance variables\n",
    "countyToCov = getCovDict()\n",
    "countyToPop = getPopDict()\n",
    "locWeights = generateLocWeights()\n",
    "worstScore = getWorstScore()\n",
    "\n",
    "#defs\n",
    "def scoreLoc(county, locType):\n",
    "    #(cases/pop) * locatiopn weight(1-5) * level of people there(1-5)\n",
    "    return getLocScaledScore((countyToCov.get(county) / countyToPop.get(county)) * locWeights.get(locType) * 1)\n",
    "\n",
    "def scoreRoute():\n",
    "    "
   ]
  },
  {
   "cell_type": "code",
   "execution_count": null,
   "metadata": {},
   "outputs": [],
   "source": []
  },
  {
   "cell_type": "code",
   "execution_count": 7,
   "metadata": {},
   "outputs": [
    {
     "ename": "SyntaxError",
     "evalue": "unexpected EOF while parsing (<ipython-input-7-ef76a98f8eba>, line 1)",
     "output_type": "error",
     "traceback": [
      "\u001b[1;36m  File \u001b[1;32m\"<ipython-input-7-ef76a98f8eba>\"\u001b[1;36m, line \u001b[1;32m1\u001b[0m\n\u001b[1;33m    def scoreRoute():\u001b[0m\n\u001b[1;37m                     ^\u001b[0m\n\u001b[1;31mSyntaxError\u001b[0m\u001b[1;31m:\u001b[0m unexpected EOF while parsing\n"
     ]
    }
   ],
   "source": []
  },
  {
   "cell_type": "code",
   "execution_count": 6,
   "metadata": {},
   "outputs": [],
   "source": [
    "def getWorstScore():\n",
    "    #defines the worst score to be used for scaling\n",
    "    return getHighestCasePercentage() * 5 * 5\n",
    "\n",
    "def getLocScaledScore(raw):\n",
    "    #takes a raw location score and return a scaled score, with 1 being the worst \n",
    "    return raw/worstScore"
   ]
  },
  {
   "cell_type": "code",
   "execution_count": null,
   "metadata": {},
   "outputs": [],
   "source": []
  }
 ],
 "metadata": {
  "kernelspec": {
   "display_name": "Python 3",
   "language": "python",
   "name": "python3"
  },
  "language_info": {
   "codemirror_mode": {
    "name": "ipython",
    "version": 3
   },
   "file_extension": ".py",
   "mimetype": "text/x-python",
   "name": "python",
   "nbconvert_exporter": "python",
   "pygments_lexer": "ipython3",
   "version": "3.8.3"
  }
 },
 "nbformat": 4,
 "nbformat_minor": 4
}
